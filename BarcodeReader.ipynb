{
  "nbformat": 4,
  "nbformat_minor": 0,
  "metadata": {
    "colab": {
      "provenance": []
    },
    "kernelspec": {
      "name": "python3",
      "display_name": "Python 3"
    },
    "language_info": {
      "name": "python"
    }
  },
  "cells": [
    {
      "cell_type": "code",
      "execution_count": null,
      "metadata": {
        "id": "BqZ1L5zDX3kk"
      },
      "outputs": [],
      "source": [
        "import cv2\n",
        "from pyzbar import pyzbar"
      ]
    },
    {
      "cell_type": "code",
      "source": [
        " def read(inp):\n",
        "        barcode=pyzbar.decode(inp)\n",
        "        for i in barcode:\n",
        "            x,y,w,h = i.rect\n",
        "            code_info=i.data.decode('utf-8')\n",
        "            cv2.rectangle(inp,(x,y),(x+w,y+h),(0,255,0),2)\n",
        "            \n",
        "            font= cv2.FONT_HERSHEY_DUPLEX\n",
        "            cv2.putText(inp,code_info,(x+6,y-6),font,2.0,(255,255,255),1)\n",
        "            \n",
        "            with open(\"Barcode_results.txt\",mode='w') as file:\n",
        "                file.write(\"Code which was read was\"+code_info)\n",
        "        return inp\n",
        "    "
      ],
      "metadata": {
        "id": "svdPMJC6X-G3"
      },
      "execution_count": null,
      "outputs": []
    },
    {
      "cell_type": "code",
      "source": [
        "def main():\n",
        "    camera = cv2.VideoCapture(0)\n",
        "    ret,inp=camera.read()\n",
        "    while ret:\n",
        "       ret,inp=camera.read()\n",
        "        inp= read(inp)\n",
        "        cv2.imshow('Barcode/QR code reader', inp)\n",
        "        if cv2.waitKey(1) & 0xFF == 27:\n",
        "            break\n",
        "    camera.release()\n",
        "    cv2.destroyAllWindows()\n",
        "\n",
        "if __name__ == '__main__':\n",
        "    main()"
      ],
      "metadata": {
        "id": "7OwrQHMzYC_3"
      },
      "execution_count": null,
      "outputs": []
    }
  ]
}